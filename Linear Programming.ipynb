{
 "cells": [
  {
   "cell_type": "markdown",
   "metadata": {},
   "source": [
    "# Solving Linear Systems"
   ]
  },
  {
   "cell_type": "code",
   "execution_count": 24,
   "metadata": {},
   "outputs": [],
   "source": [
    "import numpy as np\n",
    "import matplotlib.pyplot as plt\n",
    "import scipy.linalg as la\n",
    "%matplotlib inline"
   ]
  },
  {
   "cell_type": "markdown",
   "metadata": {},
   "source": [
    "<h2>Linear Systems</h2>"
   ]
  },
  {
   "cell_type": "markdown",
   "metadata": {},
   "source": [
    "<img src=\"linearmath4.png\">"
   ]
  },
  {
   "cell_type": "markdown",
   "metadata": {},
   "source": [
    "<h1>Gaussian elimination</h1>\n",
    "The general procedure to solve a linear system of equation is called Gaussian elimination. The idea is to perform elementary row operations to reduce the system to its row echelon form and then solve."
   ]
  },
  {
   "cell_type": "markdown",
   "metadata": {},
   "source": [
    "<img src=\"linearmath5.png\">"
   ]
  },
  {
   "cell_type": "code",
   "execution_count": 25,
   "metadata": {},
   "outputs": [
    {
     "name": "stdout",
     "output_type": "stream",
     "text": [
      "[[ 1  1  2]\n",
      " [-1  3  1]\n",
      " [ 0  5  2]]\n"
     ]
    }
   ],
   "source": [
    "A = np.array([[1,1,2],[-1,3,1],[0,5,2]])\n",
    "print(A)"
   ]
  },
  {
   "cell_type": "code",
   "execution_count": 26,
   "metadata": {},
   "outputs": [
    {
     "name": "stdout",
     "output_type": "stream",
     "text": [
      "[[1 0 3]\n",
      " [0 1 0]\n",
      " [0 0 1]]\n"
     ]
    }
   ],
   "source": [
    "E1 = np.array([[1,0,3],[0,1,0],[0,0,1]])\n",
    "print(E1)"
   ]
  },
  {
   "cell_type": "code",
   "execution_count": 27,
   "metadata": {},
   "outputs": [
    {
     "data": {
      "text/plain": [
       "array([[ 1, 16,  8],\n",
       "       [-1,  3,  1],\n",
       "       [ 0,  5,  2]])"
      ]
     },
     "execution_count": 27,
     "metadata": {},
     "output_type": "execute_result"
    }
   ],
   "source": [
    "E1 @ A"
   ]
  },
  {
   "cell_type": "markdown",
   "metadata": {},
   "source": [
    "<img src=\"linearmath6.png\">"
   ]
  },
  {
   "cell_type": "code",
   "execution_count": 28,
   "metadata": {},
   "outputs": [
    {
     "name": "stdout",
     "output_type": "stream",
     "text": [
      "[[ 1  0  0]\n",
      " [ 0 -2  0]\n",
      " [ 0  0  1]]\n"
     ]
    }
   ],
   "source": [
    "E2 = np.array([[1,0,0],[0,-2,0],[0,0,1]])\n",
    "print(E2)"
   ]
  },
  {
   "cell_type": "code",
   "execution_count": 29,
   "metadata": {},
   "outputs": [
    {
     "data": {
      "text/plain": [
       "array([[ 1,  1,  2],\n",
       "       [ 2, -6, -2],\n",
       "       [ 0,  5,  2]])"
      ]
     },
     "execution_count": 29,
     "metadata": {},
     "output_type": "execute_result"
    }
   ],
   "source": [
    "E2 @ A"
   ]
  },
  {
   "cell_type": "markdown",
   "metadata": {},
   "source": [
    "<img src=\"linearmath7.png\">"
   ]
  },
  {
   "cell_type": "code",
   "execution_count": 30,
   "metadata": {},
   "outputs": [
    {
     "name": "stdout",
     "output_type": "stream",
     "text": [
      "[[1 0 0]\n",
      " [0 0 1]\n",
      " [0 1 0]]\n"
     ]
    }
   ],
   "source": [
    "E3 = np.array([[1,0,0],[0,0,1],[0,1,0]])\n",
    "print(E3)"
   ]
  },
  {
   "cell_type": "code",
   "execution_count": 31,
   "metadata": {},
   "outputs": [
    {
     "data": {
      "text/plain": [
       "array([[ 1,  1,  2],\n",
       "       [ 0,  5,  2],\n",
       "       [-1,  3,  1]])"
      ]
     },
     "execution_count": 31,
     "metadata": {},
     "output_type": "execute_result"
    }
   ],
   "source": [
    "E3 @ A"
   ]
  },
  {
   "cell_type": "markdown",
   "metadata": {},
   "source": [
    "<h3>Implementation</h3>\n",
    "Let's write function to implement the elementary row operations. First of all, let's write a function called <b>add_rows</b> which takes input parameters <b><i>A, k, i</i></b> and <b><i>j</i></b> and returns the NumPy array resulting from adding <b><i>k</i></b> times row <b><i>j</i></b> to row <b><i>i</i></b> in the matrix <b><i>A</i></b>. If <b><i>i=j</i></b> , then let's say that the function scales row <b><i>i</i></b> by <b><i>k+1</i></b> since this would be the result of <b><i>k</i></b> times row <b><i>i</i></b> added to row <b><i>i</i></b>."
   ]
  },
  {
   "cell_type": "code",
   "execution_count": 32,
   "metadata": {},
   "outputs": [],
   "source": [
    "def add_row(A,k,i,j):\n",
    "    \"Add k times row j to row i in matrix A.\"\n",
    "    n = A.shape[0]\n",
    "    E = np.eye(n)\n",
    "    if i == j:\n",
    "        E[i,i] = k + 1\n",
    "    else:\n",
    "        E[i,j] = k\n",
    "    return E @ A"
   ]
  },
  {
   "cell_type": "markdown",
   "metadata": {},
   "source": [
    "Let's test our function:"
   ]
  },
  {
   "cell_type": "code",
   "execution_count": 33,
   "metadata": {},
   "outputs": [
    {
     "name": "stdout",
     "output_type": "stream",
     "text": [
      "[[1 1]\n",
      " [3 2]]\n"
     ]
    }
   ],
   "source": [
    "M = np.array([[1,1],[3,2]])\n",
    "print(M)"
   ]
  },
  {
   "cell_type": "code",
   "execution_count": 34,
   "metadata": {},
   "outputs": [
    {
     "data": {
      "text/plain": [
       "array([[7., 5.],\n",
       "       [3., 2.]])"
      ]
     },
     "execution_count": 34,
     "metadata": {},
     "output_type": "execute_result"
    }
   ],
   "source": [
    "add_row(M,2,0,1)"
   ]
  },
  {
   "cell_type": "code",
   "execution_count": 35,
   "metadata": {},
   "outputs": [
    {
     "data": {
      "text/plain": [
       "array([[ 1.,  1.],\n",
       "       [12.,  8.]])"
      ]
     },
     "execution_count": 35,
     "metadata": {},
     "output_type": "execute_result"
    }
   ],
   "source": [
    "add_row(M,3,1,1)"
   ]
  },
  {
   "cell_type": "markdown",
   "metadata": {},
   "source": [
    "Let's write a function called <b>scale_row</b> which takes 3 input parameters <b><i>A,k</i></b> and <b><i>i</i></b> and returns the matrix that results from <b><i>k</i></b> times row <b><i>i</i></b> in the matrix <b><i>A</i></b>."
   ]
  },
  {
   "cell_type": "code",
   "execution_count": 36,
   "metadata": {},
   "outputs": [],
   "source": [
    "def scale_row(A,k,i):\n",
    "    \"Multiply row i by k in matrix A.\"\n",
    "    n = A.shape[0]\n",
    "    E = np.eye(n)\n",
    "    E[i,i] = k\n",
    "    return E @ A"
   ]
  },
  {
   "cell_type": "code",
   "execution_count": 37,
   "metadata": {},
   "outputs": [
    {
     "name": "stdout",
     "output_type": "stream",
     "text": [
      "[[ 3  1]\n",
      " [-2  7]]\n"
     ]
    }
   ],
   "source": [
    "M = np.array([[3,1],[-2,7]])\n",
    "print(M)"
   ]
  },
  {
   "cell_type": "code",
   "execution_count": 38,
   "metadata": {},
   "outputs": [
    {
     "data": {
      "text/plain": [
       "array([[ 3.,  1.],\n",
       "       [-6., 21.]])"
      ]
     },
     "execution_count": 38,
     "metadata": {},
     "output_type": "execute_result"
    }
   ],
   "source": [
    "scale_row(M,3,1)"
   ]
  },
  {
   "cell_type": "code",
   "execution_count": 39,
   "metadata": {},
   "outputs": [
    {
     "name": "stdout",
     "output_type": "stream",
     "text": [
      "[[ 1  1  1]\n",
      " [ 1 -1  0]]\n"
     ]
    }
   ],
   "source": [
    "A = np.array([[1,1,1],[1,-1,0]])\n",
    "print(A)"
   ]
  },
  {
   "cell_type": "code",
   "execution_count": 40,
   "metadata": {},
   "outputs": [
    {
     "data": {
      "text/plain": [
       "array([[ 1.,  1.,  1.],\n",
       "       [ 5., -5.,  0.]])"
      ]
     },
     "execution_count": 40,
     "metadata": {},
     "output_type": "execute_result"
    }
   ],
   "source": [
    "scale_row(A,5,1)"
   ]
  },
  {
   "cell_type": "markdown",
   "metadata": {},
   "source": [
    "Let's write a function called switch_rows which takes 3 input parameters <b><i>A,i</i></b>  and <b><i>j</i></b> and returns the matrix that results from switching rows <b><i>i</i></b> and <b><i>j</i></b> in the matrix <b><i>A</i></b>."
   ]
  },
  {
   "cell_type": "code",
   "execution_count": 41,
   "metadata": {},
   "outputs": [],
   "source": [
    "def switch_rows(A,i,j):\n",
    "    \"Switch rows i and j in matrix A.\"\n",
    "    n = A.shape[0]\n",
    "    E = np.eye(n)\n",
    "    E[i,i] = 0\n",
    "    E[j,j] = 0\n",
    "    E[i,j] = 1\n",
    "    E[j,i] = 1\n",
    "    return E @ A"
   ]
  },
  {
   "cell_type": "code",
   "execution_count": 42,
   "metadata": {},
   "outputs": [
    {
     "name": "stdout",
     "output_type": "stream",
     "text": [
      "[[ 1  1  1]\n",
      " [ 1 -1  0]]\n"
     ]
    }
   ],
   "source": [
    "A = np.array([[1,1,1],[1,-1,0]])\n",
    "print(A)"
   ]
  },
  {
   "cell_type": "code",
   "execution_count": 43,
   "metadata": {},
   "outputs": [
    {
     "data": {
      "text/plain": [
       "array([[ 1., -1.,  0.],\n",
       "       [ 1.,  1.,  1.]])"
      ]
     },
     "execution_count": 43,
     "metadata": {},
     "output_type": "execute_result"
    }
   ],
   "source": [
    "switch_rows(A,0,1)"
   ]
  },
  {
   "cell_type": "markdown",
   "metadata": {},
   "source": [
    "# Examples"
   ]
  },
  {
   "cell_type": "markdown",
   "metadata": {},
   "source": [
    "<h2>Find the Inverse</h2>"
   ]
  },
  {
   "cell_type": "markdown",
   "metadata": {},
   "source": [
    "<img src=\"linearmath8.png\">"
   ]
  },
  {
   "cell_type": "code",
   "execution_count": 45,
   "metadata": {},
   "outputs": [
    {
     "name": "stdout",
     "output_type": "stream",
     "text": [
      "[[ 5  4  2]\n",
      " [-1  2  1]\n",
      " [ 1  1  1]]\n"
     ]
    }
   ],
   "source": [
    "M = np.array([[5,4,2],[-1,2,1],[1,1,1]])\n",
    "print(M)"
   ]
  },
  {
   "cell_type": "code",
   "execution_count": 46,
   "metadata": {},
   "outputs": [
    {
     "name": "stdout",
     "output_type": "stream",
     "text": [
      "[[ 5.  4.  2.  1.  0.  0.]\n",
      " [-1.  2.  1.  0.  1.  0.]\n",
      " [ 1.  1.  1.  0.  0.  1.]]\n"
     ]
    }
   ],
   "source": [
    "A = np.hstack([M,np.eye(3)])\n",
    "print(A)"
   ]
  },
  {
   "cell_type": "code",
   "execution_count": 47,
   "metadata": {},
   "outputs": [
    {
     "name": "stdout",
     "output_type": "stream",
     "text": [
      "[[ 1.  1.  1.  0.  0.  1.]\n",
      " [-1.  2.  1.  0.  1.  0.]\n",
      " [ 5.  4.  2.  1.  0.  0.]]\n"
     ]
    }
   ],
   "source": [
    "A1 = switch_rows(A,0,2)\n",
    "print(A1)"
   ]
  },
  {
   "cell_type": "code",
   "execution_count": 48,
   "metadata": {},
   "outputs": [
    {
     "name": "stdout",
     "output_type": "stream",
     "text": [
      "[[1. 1. 1. 0. 0. 1.]\n",
      " [0. 3. 2. 0. 1. 1.]\n",
      " [5. 4. 2. 1. 0. 0.]]\n"
     ]
    }
   ],
   "source": [
    "A2 = add_row(A1,1,1,0)\n",
    "print(A2)"
   ]
  },
  {
   "cell_type": "code",
   "execution_count": 49,
   "metadata": {},
   "outputs": [
    {
     "name": "stdout",
     "output_type": "stream",
     "text": [
      "[[ 1.  1.  1.  0.  0.  1.]\n",
      " [ 0.  3.  2.  0.  1.  1.]\n",
      " [ 0. -1. -3.  1.  0. -5.]]\n"
     ]
    }
   ],
   "source": [
    "A3 = add_row(A2,-5,2,0)\n",
    "print(A3)"
   ]
  },
  {
   "cell_type": "code",
   "execution_count": 50,
   "metadata": {},
   "outputs": [
    {
     "name": "stdout",
     "output_type": "stream",
     "text": [
      "[[ 1.  1.  1.  0.  0.  1.]\n",
      " [ 0. -1. -3.  1.  0. -5.]\n",
      " [ 0.  3.  2.  0.  1.  1.]]\n"
     ]
    }
   ],
   "source": [
    "A4 = switch_rows(A3,1,2)\n",
    "print(A4)"
   ]
  },
  {
   "cell_type": "code",
   "execution_count": 51,
   "metadata": {},
   "outputs": [
    {
     "name": "stdout",
     "output_type": "stream",
     "text": [
      "[[ 1.  1.  1.  0.  0.  1.]\n",
      " [ 0.  1.  3. -1.  0.  5.]\n",
      " [ 0.  3.  2.  0.  1.  1.]]\n"
     ]
    }
   ],
   "source": [
    "A5 = scale_row(A4,-1,1)\n",
    "print(A5)"
   ]
  },
  {
   "cell_type": "code",
   "execution_count": 52,
   "metadata": {},
   "outputs": [
    {
     "name": "stdout",
     "output_type": "stream",
     "text": [
      "[[  1.   1.   1.   0.   0.   1.]\n",
      " [  0.   1.   3.  -1.   0.   5.]\n",
      " [  0.   0.  -7.   3.   1. -14.]]\n"
     ]
    }
   ],
   "source": [
    "A6 = add_row(A5,-3,2,1)\n",
    "print(A6)"
   ]
  },
  {
   "cell_type": "code",
   "execution_count": 53,
   "metadata": {},
   "outputs": [
    {
     "name": "stdout",
     "output_type": "stream",
     "text": [
      "[[ 1.          1.          1.          0.          0.          1.        ]\n",
      " [ 0.          1.          3.         -1.          0.          5.        ]\n",
      " [ 0.          0.          1.         -0.42857143 -0.14285714  2.        ]]\n"
     ]
    }
   ],
   "source": [
    "A7 = scale_row(A6,-1/7,2)\n",
    "print(A7)"
   ]
  },
  {
   "cell_type": "code",
   "execution_count": 54,
   "metadata": {},
   "outputs": [
    {
     "name": "stdout",
     "output_type": "stream",
     "text": [
      "[[ 1.          1.          1.          0.          0.          1.        ]\n",
      " [ 0.          1.          0.          0.28571429  0.42857143 -1.        ]\n",
      " [ 0.          0.          1.         -0.42857143 -0.14285714  2.        ]]\n"
     ]
    }
   ],
   "source": [
    "A8 = add_row(A7,-3,1,2)\n",
    "print(A8)"
   ]
  },
  {
   "cell_type": "code",
   "execution_count": 55,
   "metadata": {},
   "outputs": [
    {
     "name": "stdout",
     "output_type": "stream",
     "text": [
      "[[ 1.          1.          0.          0.42857143  0.14285714 -1.        ]\n",
      " [ 0.          1.          0.          0.28571429  0.42857143 -1.        ]\n",
      " [ 0.          0.          1.         -0.42857143 -0.14285714  2.        ]]\n"
     ]
    }
   ],
   "source": [
    "A9 = add_row(A8,-1,0,2)\n",
    "print(A9)"
   ]
  },
  {
   "cell_type": "code",
   "execution_count": 56,
   "metadata": {},
   "outputs": [
    {
     "name": "stdout",
     "output_type": "stream",
     "text": [
      "[[ 1.          0.          0.          0.14285714 -0.28571429  0.        ]\n",
      " [ 0.          1.          0.          0.28571429  0.42857143 -1.        ]\n",
      " [ 0.          0.          1.         -0.42857143 -0.14285714  2.        ]]\n"
     ]
    }
   ],
   "source": [
    "A10 = add_row(A9,-1,0,1)\n",
    "print(A10)"
   ]
  },
  {
   "cell_type": "markdown",
   "metadata": {},
   "source": [
    "Let's verify that we found the inverse <b><i>M<sup>-1</sup></i></b> correctly:"
   ]
  },
  {
   "cell_type": "code",
   "execution_count": 57,
   "metadata": {},
   "outputs": [
    {
     "name": "stdout",
     "output_type": "stream",
     "text": [
      "[[ 0.14285714 -0.28571429  0.        ]\n",
      " [ 0.28571429  0.42857143 -1.        ]\n",
      " [-0.42857143 -0.14285714  2.        ]]\n"
     ]
    }
   ],
   "source": [
    "Minv = A10[:,3:]\n",
    "print(Minv)"
   ]
  },
  {
   "cell_type": "code",
   "execution_count": 58,
   "metadata": {},
   "outputs": [
    {
     "name": "stdout",
     "output_type": "stream",
     "text": [
      "[[ 1.00000000e+00  4.44089210e-16  2.22044605e-16]\n",
      " [-6.66133815e-16  1.00000000e+00 -2.22044605e-16]\n",
      " [ 0.00000000e+00  0.00000000e+00  1.00000000e+00]]\n"
     ]
    }
   ],
   "source": [
    "result = Minv @ M\n",
    "print(result)"
   ]
  },
  {
   "cell_type": "markdown",
   "metadata": {},
   "source": [
    "Success! We can see the result more clearly if we round to 15 decimal places:"
   ]
  },
  {
   "cell_type": "code",
   "execution_count": 59,
   "metadata": {},
   "outputs": [
    {
     "data": {
      "text/plain": [
       "array([[ 1.e+00,  0.e+00,  0.e+00],\n",
       "       [-1.e-15,  1.e+00, -0.e+00],\n",
       "       [ 0.e+00,  0.e+00,  1.e+00]])"
      ]
     },
     "execution_count": 59,
     "metadata": {},
     "output_type": "execute_result"
    }
   ],
   "source": [
    "np.round(result,15)"
   ]
  },
  {
   "cell_type": "markdown",
   "metadata": {},
   "source": [
    "<h3>Solve a System</h3>\n",
    "Let's use our functions to perform Gaussian elimination and solve a linear system of equations <b>Ax = b</b>."
   ]
  },
  {
   "cell_type": "code",
   "execution_count": 60,
   "metadata": {},
   "outputs": [
    {
     "name": "stdout",
     "output_type": "stream",
     "text": [
      "[[ 6 15  1]\n",
      " [ 8  7 12]\n",
      " [ 2  7  8]]\n"
     ]
    }
   ],
   "source": [
    "A = np.array([[6,15,1],[8,7,12],[2,7,8]])\n",
    "print(A)"
   ]
  },
  {
   "cell_type": "code",
   "execution_count": 61,
   "metadata": {},
   "outputs": [
    {
     "name": "stdout",
     "output_type": "stream",
     "text": [
      "[[ 2]\n",
      " [14]\n",
      " [10]]\n"
     ]
    }
   ],
   "source": [
    "b = np.array([[2],[14],[10]])\n",
    "print(b)"
   ]
  },
  {
   "cell_type": "markdown",
   "metadata": {},
   "source": [
    "Form the augemented matrix <b><i>M</i></b>:"
   ]
  },
  {
   "cell_type": "code",
   "execution_count": 62,
   "metadata": {},
   "outputs": [
    {
     "name": "stdout",
     "output_type": "stream",
     "text": [
      "[[ 6 15  1  2]\n",
      " [ 8  7 12 14]\n",
      " [ 2  7  8 10]]\n"
     ]
    }
   ],
   "source": [
    "M = np.hstack([A,b])\n",
    "print(M)"
   ]
  },
  {
   "cell_type": "markdown",
   "metadata": {},
   "source": [
    "Perform row operations:"
   ]
  },
  {
   "cell_type": "code",
   "execution_count": 63,
   "metadata": {},
   "outputs": [
    {
     "name": "stdout",
     "output_type": "stream",
     "text": [
      "[[ 1.          2.5         0.16666667  0.33333333]\n",
      " [ 8.          7.         12.         14.        ]\n",
      " [ 2.          7.          8.         10.        ]]\n"
     ]
    }
   ],
   "source": [
    "M1 = scale_row(M,1/6,0)\n",
    "print(M1)"
   ]
  },
  {
   "cell_type": "code",
   "execution_count": 64,
   "metadata": {},
   "outputs": [
    {
     "name": "stdout",
     "output_type": "stream",
     "text": [
      "[[  1.           2.5          0.16666667   0.33333333]\n",
      " [  0.         -13.          10.66666667  11.33333333]\n",
      " [  2.           7.           8.          10.        ]]\n"
     ]
    }
   ],
   "source": [
    "M2 = add_row(M1,-8,1,0)\n",
    "print(M2)"
   ]
  },
  {
   "cell_type": "code",
   "execution_count": 65,
   "metadata": {},
   "outputs": [
    {
     "name": "stdout",
     "output_type": "stream",
     "text": [
      "[[  1.           2.5          0.16666667   0.33333333]\n",
      " [  0.         -13.          10.66666667  11.33333333]\n",
      " [  0.           2.           7.66666667   9.33333333]]\n"
     ]
    }
   ],
   "source": [
    "M3 = add_row(M2,-2,2,0)\n",
    "print(M3)"
   ]
  },
  {
   "cell_type": "code",
   "execution_count": 66,
   "metadata": {},
   "outputs": [
    {
     "name": "stdout",
     "output_type": "stream",
     "text": [
      "[[ 1.          2.5         0.16666667  0.33333333]\n",
      " [ 0.          1.         -0.82051282 -0.87179487]\n",
      " [ 0.          2.          7.66666667  9.33333333]]\n"
     ]
    }
   ],
   "source": [
    "M4 = scale_row(M3,-1/13,1)\n",
    "print(M4)"
   ]
  },
  {
   "cell_type": "code",
   "execution_count": 67,
   "metadata": {},
   "outputs": [
    {
     "name": "stdout",
     "output_type": "stream",
     "text": [
      "[[ 1.          2.5         0.16666667  0.33333333]\n",
      " [ 0.          1.         -0.82051282 -0.87179487]\n",
      " [ 0.          0.          9.30769231 11.07692308]]\n"
     ]
    }
   ],
   "source": [
    "M5 = add_row(M4,-2,2,1)\n",
    "print(M5)"
   ]
  },
  {
   "cell_type": "code",
   "execution_count": 68,
   "metadata": {},
   "outputs": [
    {
     "name": "stdout",
     "output_type": "stream",
     "text": [
      "[[ 1.          2.5         0.16666667  0.33333333]\n",
      " [ 0.          1.         -0.82051282 -0.87179487]\n",
      " [ 0.          0.          1.          1.19008264]]\n"
     ]
    }
   ],
   "source": [
    "M6 = scale_row(M5,1/M5[2,2],2)\n",
    "print(M6)"
   ]
  },
  {
   "cell_type": "code",
   "execution_count": 69,
   "metadata": {},
   "outputs": [
    {
     "name": "stdout",
     "output_type": "stream",
     "text": [
      "[[1.         2.5        0.16666667 0.33333333]\n",
      " [0.         1.         0.         0.1046832 ]\n",
      " [0.         0.         1.         1.19008264]]\n"
     ]
    }
   ],
   "source": [
    "M7 = add_row(M6,-M6[1,2],1,2)\n",
    "print(M7)"
   ]
  },
  {
   "cell_type": "code",
   "execution_count": 70,
   "metadata": {},
   "outputs": [
    {
     "name": "stdout",
     "output_type": "stream",
     "text": [
      "[[1.         2.5        0.         0.13498623]\n",
      " [0.         1.         0.         0.1046832 ]\n",
      " [0.         0.         1.         1.19008264]]\n"
     ]
    }
   ],
   "source": [
    "M8 = add_row(M7,-M7[0,2],0,2)\n",
    "print(M8)"
   ]
  },
  {
   "cell_type": "code",
   "execution_count": 71,
   "metadata": {},
   "outputs": [
    {
     "name": "stdout",
     "output_type": "stream",
     "text": [
      "[[ 1.          0.          0.         -0.12672176]\n",
      " [ 0.          1.          0.          0.1046832 ]\n",
      " [ 0.          0.          1.          1.19008264]]\n"
     ]
    }
   ],
   "source": [
    "M9 = add_row(M8,-M8[0,1],0,1)\n",
    "print(M9)"
   ]
  },
  {
   "cell_type": "markdown",
   "metadata": {},
   "source": [
    "Success! The solution of <b>Ax = b</b> is"
   ]
  },
  {
   "cell_type": "code",
   "execution_count": 72,
   "metadata": {},
   "outputs": [
    {
     "name": "stdout",
     "output_type": "stream",
     "text": [
      "[[-0.12672176]\n",
      " [ 0.1046832 ]\n",
      " [ 1.19008264]]\n"
     ]
    }
   ],
   "source": [
    "x = M9[:,3].reshape(3,1)\n",
    "print(x)"
   ]
  },
  {
   "cell_type": "markdown",
   "metadata": {},
   "source": [
    "Or, we can do it the easy way..."
   ]
  },
  {
   "cell_type": "code",
   "execution_count": 73,
   "metadata": {},
   "outputs": [
    {
     "name": "stdout",
     "output_type": "stream",
     "text": [
      "[[-0.12672176]\n",
      " [ 0.1046832 ]\n",
      " [ 1.19008264]]\n"
     ]
    }
   ],
   "source": [
    "x = la.solve(A,b)\n",
    "print(x)"
   ]
  },
  {
   "cell_type": "markdown",
   "metadata": {},
   "source": [
    "<h3>scipy.linalg.solve</h3>\n",
    "We are mostly interested in linear systems <b>Ax = b</b>  where there is a unique solution <b>x</b>. This is the case when <b>A</b> is a square matrix (m = n) and <b>det(A) != 0</b> . To solve such a system, we can use the function <b>scipy.linalg.solve<b>.\n",
    "\n",
    "    The function returns a solution of the system of equations <b>Ax = b</b>. For example:"
   ]
  },
  {
   "cell_type": "code",
   "execution_count": 74,
   "metadata": {},
   "outputs": [
    {
     "name": "stdout",
     "output_type": "stream",
     "text": [
      "[[ 1  1]\n",
      " [ 1 -1]]\n"
     ]
    }
   ],
   "source": [
    "A = np.array([[1,1],[1,-1]])\n",
    "print(A)"
   ]
  },
  {
   "cell_type": "code",
   "execution_count": 75,
   "metadata": {},
   "outputs": [
    {
     "name": "stdout",
     "output_type": "stream",
     "text": [
      "[2 0]\n"
     ]
    }
   ],
   "source": [
    "b1 = np.array([2,0])\n",
    "print(b1)"
   ]
  },
  {
   "cell_type": "markdown",
   "metadata": {},
   "source": [
    "And solve:"
   ]
  },
  {
   "cell_type": "code",
   "execution_count": 76,
   "metadata": {},
   "outputs": [
    {
     "name": "stdout",
     "output_type": "stream",
     "text": [
      "[1. 1.]\n"
     ]
    }
   ],
   "source": [
    "x1 = la.solve(A,b1)\n",
    "print(x1)"
   ]
  },
  {
   "cell_type": "markdown",
   "metadata": {},
   "source": [
    "Note that the output <b>x</b> is returned as a 1D NumPy array when the vector <b>b</b> (the right hand side) is entered as a 1D NumPy array. If we input <b>b</b> as a 2D NumPy array, then the output is a 2D NumPy array. For example:"
   ]
  },
  {
   "cell_type": "code",
   "execution_count": 77,
   "metadata": {},
   "outputs": [
    {
     "name": "stdout",
     "output_type": "stream",
     "text": [
      "[[1.]\n",
      " [1.]]\n"
     ]
    }
   ],
   "source": [
    "A = np.array([[1,1],[1,-1]])\n",
    "b2 = np.array([2,0]).reshape(2,1)\n",
    "x2 = la.solve(A,b2)\n",
    "print(x2)"
   ]
  },
  {
   "cell_type": "markdown",
   "metadata": {},
   "source": [
    "Finally, if the right hand side <b>b</b> is a matrix, then the output is a matrix of the same size. It is the solution of <b>Ax = b</b> when <b>b</b> is a matrix. For example:"
   ]
  },
  {
   "cell_type": "code",
   "execution_count": 78,
   "metadata": {},
   "outputs": [
    {
     "name": "stdout",
     "output_type": "stream",
     "text": [
      "[[1.  1.5]\n",
      " [1.  0.5]]\n"
     ]
    }
   ],
   "source": [
    "A = np.array([[1,1],[1,-1]])\n",
    "b3 = np.array([[2,2],[0,1]])\n",
    "x3 = la.solve(A,b3)\n",
    "print(x3)"
   ]
  },
  {
   "cell_type": "markdown",
   "metadata": {},
   "source": [
    "<img src=\"linearmath9.png\">"
   ]
  },
  {
   "cell_type": "code",
   "execution_count": 80,
   "metadata": {},
   "outputs": [
    {
     "name": "stdout",
     "output_type": "stream",
     "text": [
      "[[2 1]\n",
      " [1 1]]\n"
     ]
    }
   ],
   "source": [
    "A = np.array([[2,1],[1,1]])\n",
    "print(A)"
   ]
  },
  {
   "cell_type": "markdown",
   "metadata": {},
   "source": [
    "And the vector b:"
   ]
  },
  {
   "cell_type": "code",
   "execution_count": 81,
   "metadata": {},
   "outputs": [
    {
     "name": "stdout",
     "output_type": "stream",
     "text": [
      "[[ 1]\n",
      " [-1]]\n"
     ]
    }
   ],
   "source": [
    "b = np.array([1,-1]).reshape(2,1)\n",
    "print(b)"
   ]
  },
  {
   "cell_type": "markdown",
   "metadata": {},
   "source": [
    "And solve:"
   ]
  },
  {
   "cell_type": "code",
   "execution_count": 83,
   "metadata": {},
   "outputs": [
    {
     "name": "stdout",
     "output_type": "stream",
     "text": [
      "[[ 2.]\n",
      " [-3.]]\n"
     ]
    }
   ],
   "source": [
    "x = la.solve(A,b)\n",
    "print(x)"
   ]
  },
  {
   "cell_type": "markdown",
   "metadata": {},
   "source": [
    "We can verify the solution by computing the inverse of A:"
   ]
  },
  {
   "cell_type": "code",
   "execution_count": 84,
   "metadata": {},
   "outputs": [
    {
     "name": "stdout",
     "output_type": "stream",
     "text": [
      "[[ 1. -1.]\n",
      " [-1.  2.]]\n"
     ]
    }
   ],
   "source": [
    "Ainv = la.inv(A)\n",
    "print(Ainv)"
   ]
  },
  {
   "cell_type": "markdown",
   "metadata": {},
   "source": [
    "And multiply <b>A<sup>-1</sup>b</b> to solve for x:"
   ]
  },
  {
   "cell_type": "code",
   "execution_count": 85,
   "metadata": {},
   "outputs": [
    {
     "name": "stdout",
     "output_type": "stream",
     "text": [
      "[[ 2.]\n",
      " [-3.]]\n"
     ]
    }
   ],
   "source": [
    "x = Ainv @ b\n",
    "print(x)"
   ]
  },
  {
   "cell_type": "markdown",
   "metadata": {},
   "source": [
    "We get the same result. Success!\n",
    "\n",
    "<h3>Inverse or Solve</h3>\n",
    "It's a bad idea to use the inverse <b>A<sup>-1</sup></b> to solve <b>Ax = b</b> if <b>A</b> is large. It's too computationally expensive. Let's create a large random matrix <b>A</b> and vector <b>b</b> and compute the solution <b>x</b> in 2 ways:"
   ]
  },
  {
   "cell_type": "code",
   "execution_count": 86,
   "metadata": {},
   "outputs": [],
   "source": [
    "N = 1000\n",
    "A = np.random.rand(N,N)\n",
    "b = np.random.rand(N,1)"
   ]
  },
  {
   "cell_type": "markdown",
   "metadata": {},
   "source": [
    "Check the first entries A:"
   ]
  },
  {
   "cell_type": "code",
   "execution_count": 87,
   "metadata": {},
   "outputs": [
    {
     "data": {
      "text/plain": [
       "array([[0.92891026, 0.10749158, 0.18345294],\n",
       "       [0.32793688, 0.02207131, 0.4253631 ],\n",
       "       [0.56208307, 0.29542629, 0.25138688]])"
      ]
     },
     "execution_count": 87,
     "metadata": {},
     "output_type": "execute_result"
    }
   ],
   "source": [
    "A[:3,:3]"
   ]
  },
  {
   "cell_type": "markdown",
   "metadata": {},
   "source": [
    "And for b:"
   ]
  },
  {
   "cell_type": "code",
   "execution_count": 88,
   "metadata": {},
   "outputs": [
    {
     "data": {
      "text/plain": [
       "array([[0.3172392 ],\n",
       "       [0.84883666],\n",
       "       [0.70673025],\n",
       "       [0.70510265]])"
      ]
     },
     "execution_count": 88,
     "metadata": {},
     "output_type": "execute_result"
    }
   ],
   "source": [
    "b[:4,:]"
   ]
  },
  {
   "cell_type": "markdown",
   "metadata": {},
   "source": [
    "Now we compare the speed of <b>scipy.linalg.solve</b> with <b>scipy.linalg.inv</b>:"
   ]
  },
  {
   "cell_type": "code",
   "execution_count": 89,
   "metadata": {},
   "outputs": [
    {
     "name": "stdout",
     "output_type": "stream",
     "text": [
      "22.3 ms ± 1.24 ms per loop (mean ± std. dev. of 7 runs, 1 loop each)\n"
     ]
    }
   ],
   "source": [
    "%%timeit\n",
    "x = la.solve(A,b)"
   ]
  },
  {
   "cell_type": "code",
   "execution_count": 90,
   "metadata": {},
   "outputs": [
    {
     "name": "stdout",
     "output_type": "stream",
     "text": [
      "31.4 ms ± 1.5 ms per loop (mean ± std. dev. of 7 runs, 10 loops each)\n"
     ]
    }
   ],
   "source": [
    "%%timeit\n",
    "x = la.inv(A) @ b"
   ]
  },
  {
   "cell_type": "markdown",
   "metadata": {},
   "source": [
    "Solving with scipy.linalg.solve is about twice as fast!\n",
    "\n"
   ]
  },
  {
   "cell_type": "code",
   "execution_count": null,
   "metadata": {},
   "outputs": [],
   "source": []
  }
 ],
 "metadata": {
  "kernelspec": {
   "display_name": "Python 3",
   "language": "python",
   "name": "python3"
  },
  "language_info": {
   "codemirror_mode": {
    "name": "ipython",
    "version": 3
   },
   "file_extension": ".py",
   "mimetype": "text/x-python",
   "name": "python",
   "nbconvert_exporter": "python",
   "pygments_lexer": "ipython3",
   "version": "3.7.6"
  }
 },
 "nbformat": 4,
 "nbformat_minor": 4
}
